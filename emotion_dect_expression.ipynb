{
 "cells": [
  {
   "cell_type": "code",
   "execution_count": 1,
   "id": "dd22835c",
   "metadata": {
    "_cell_guid": "b1076dfc-b9ad-4769-8c92-a6c4dae69d19",
    "_uuid": "8f2839f25d086af736a60e9eeb907d3b93b6e0e5",
    "execution": {
     "iopub.execute_input": "2022-05-08T07:08:35.747381Z",
     "iopub.status.busy": "2022-05-08T07:08:35.747062Z",
     "iopub.status.idle": "2022-05-08T07:08:35.756833Z",
     "shell.execute_reply": "2022-05-08T07:08:35.756093Z"
    },
    "papermill": {
     "duration": 0.056058,
     "end_time": "2022-05-08T07:08:35.758849",
     "exception": false,
     "start_time": "2022-05-08T07:08:35.702791",
     "status": "completed"
    },
    "tags": []
   },
   "outputs": [],
   "source": [
    "import numpy as np # linear algebra\n",
    "import pandas as pd # data processing, CSV file I/O (e.g. pd.read_csv)\n",
    "import os"
   ]
  },
  {
   "cell_type": "code",
   "execution_count": 2,
   "id": "30eeea1a",
   "metadata": {
    "execution": {
     "iopub.execute_input": "2022-05-08T07:08:35.842902Z",
     "iopub.status.busy": "2022-05-08T07:08:35.842327Z",
     "iopub.status.idle": "2022-05-08T07:08:35.855717Z",
     "shell.execute_reply": "2022-05-08T07:08:35.854904Z"
    },
    "papermill": {
     "duration": 0.057853,
     "end_time": "2022-05-08T07:08:35.857864",
     "exception": false,
     "start_time": "2022-05-08T07:08:35.800011",
     "status": "completed"
    },
    "tags": []
   },
   "outputs": [],
   "source": [
    "path_to_data = \"../input/facial-expression-dataset/train/train/\"\n",
    "\n",
    "\n",
    "\n",
    "\n",
    "import os\n",
    "img_dirs = []\n",
    "for entry in os.scandir(path_to_data):\n",
    "    if entry.is_dir():\n",
    "        img_dirs.append(entry.path)"
   ]
  },
  {
   "cell_type": "code",
   "execution_count": 3,
   "id": "f02011b6",
   "metadata": {
    "execution": {
     "iopub.execute_input": "2022-05-08T07:08:35.941216Z",
     "iopub.status.busy": "2022-05-08T07:08:35.940694Z",
     "iopub.status.idle": "2022-05-08T07:08:35.948454Z",
     "shell.execute_reply": "2022-05-08T07:08:35.947696Z"
    },
    "papermill": {
     "duration": 0.052358,
     "end_time": "2022-05-08T07:08:35.951163",
     "exception": false,
     "start_time": "2022-05-08T07:08:35.898805",
     "status": "completed"
    },
    "tags": []
   },
   "outputs": [
    {
     "data": {
      "text/plain": [
       "['../input/facial-expression-dataset/train/train/surprise',\n",
       " '../input/facial-expression-dataset/train/train/fear',\n",
       " '../input/facial-expression-dataset/train/train/angry',\n",
       " '../input/facial-expression-dataset/train/train/neutral',\n",
       " '../input/facial-expression-dataset/train/train/sad',\n",
       " '../input/facial-expression-dataset/train/train/disgust',\n",
       " '../input/facial-expression-dataset/train/train/happy']"
      ]
     },
     "execution_count": 3,
     "metadata": {},
     "output_type": "execute_result"
    }
   ],
   "source": [
    "img_dirs"
   ]
  },
  {
   "cell_type": "code",
   "execution_count": 4,
   "id": "9e1c6fae",
   "metadata": {
    "execution": {
     "iopub.execute_input": "2022-05-08T07:08:36.038482Z",
     "iopub.status.busy": "2022-05-08T07:08:36.038208Z",
     "iopub.status.idle": "2022-05-08T07:08:37.507559Z",
     "shell.execute_reply": "2022-05-08T07:08:37.506663Z"
    },
    "papermill": {
     "duration": 1.514268,
     "end_time": "2022-05-08T07:08:37.509932",
     "exception": false,
     "start_time": "2022-05-08T07:08:35.995664",
     "status": "completed"
    },
    "tags": []
   },
   "outputs": [],
   "source": [
    "emotion = {}\n",
    "for img_dir in img_dirs:\n",
    "    emotion_name = img_dir.split('/')[-1]\n",
    "    file_list = []\n",
    "    for entry in os.scandir(img_dir):\n",
    "        file_list.append(entry.path)\n",
    "    emotion[emotion_name] = file_list\n"
   ]
  },
  {
   "cell_type": "code",
   "execution_count": 5,
   "id": "a65d4377",
   "metadata": {
    "execution": {
     "iopub.execute_input": "2022-05-08T07:08:37.594873Z",
     "iopub.status.busy": "2022-05-08T07:08:37.594584Z",
     "iopub.status.idle": "2022-05-08T07:09:00.774899Z",
     "shell.execute_reply": "2022-05-08T07:09:00.774076Z"
    },
    "papermill": {
     "duration": 23.224683,
     "end_time": "2022-05-08T07:09:00.777229",
     "exception": false,
     "start_time": "2022-05-08T07:08:37.552546",
     "status": "completed"
    },
    "tags": []
   },
   "outputs": [],
   "source": [
    "for dirname, _, filenames in os.walk('/kaggle/input'):\n",
    "    for filename in filenames:\n",
    "        os.path.join(dirname, filename)"
   ]
  },
  {
   "cell_type": "code",
   "execution_count": 6,
   "id": "f35014f1",
   "metadata": {
    "execution": {
     "iopub.execute_input": "2022-05-08T07:09:00.861574Z",
     "iopub.status.busy": "2022-05-08T07:09:00.860904Z",
     "iopub.status.idle": "2022-05-08T07:09:00.868197Z",
     "shell.execute_reply": "2022-05-08T07:09:00.867498Z"
    },
    "papermill": {
     "duration": 0.051513,
     "end_time": "2022-05-08T07:09:00.870225",
     "exception": false,
     "start_time": "2022-05-08T07:09:00.818712",
     "status": "completed"
    },
    "tags": []
   },
   "outputs": [
    {
     "data": {
      "text/plain": [
       "{'surprise': 0,\n",
       " 'fear': 1,\n",
       " 'angry': 2,\n",
       " 'neutral': 3,\n",
       " 'sad': 4,\n",
       " 'disgust': 5,\n",
       " 'happy': 6}"
      ]
     },
     "execution_count": 6,
     "metadata": {},
     "output_type": "execute_result"
    }
   ],
   "source": [
    "class_dict = {}\n",
    "count = 0\n",
    "for emotion_name in emotion.keys():\n",
    "    class_dict[emotion_name] = count\n",
    "    count = count + 1\n",
    "class_dict"
   ]
  },
  {
   "cell_type": "code",
   "execution_count": 7,
   "id": "aa98e9fe",
   "metadata": {
    "execution": {
     "iopub.execute_input": "2022-05-08T07:09:00.954944Z",
     "iopub.status.busy": "2022-05-08T07:09:00.954690Z",
     "iopub.status.idle": "2022-05-08T07:11:05.006839Z",
     "shell.execute_reply": "2022-05-08T07:11:05.006068Z"
    },
    "papermill": {
     "duration": 124.096643,
     "end_time": "2022-05-08T07:11:05.009073",
     "exception": false,
     "start_time": "2022-05-08T07:09:00.912430",
     "status": "completed"
    },
    "tags": []
   },
   "outputs": [],
   "source": [
    "\n",
    "\n",
    "\n",
    "import os\n",
    "import cv2\n",
    "rootdir = path_to_data\n",
    "for subdir, dirs, files in os.walk(rootdir):\n",
    "    for file in files:\n",
    "        frame = cv2.imread(os.path.join(subdir, file)) \n",
    "        "
   ]
  },
  {
   "cell_type": "code",
   "execution_count": 8,
   "id": "e9eedbe9",
   "metadata": {
    "execution": {
     "iopub.execute_input": "2022-05-08T07:11:05.094603Z",
     "iopub.status.busy": "2022-05-08T07:11:05.094330Z",
     "iopub.status.idle": "2022-05-08T07:11:28.950243Z",
     "shell.execute_reply": "2022-05-08T07:11:28.949425Z"
    },
    "papermill": {
     "duration": 23.900809,
     "end_time": "2022-05-08T07:11:28.952592",
     "exception": false,
     "start_time": "2022-05-08T07:11:05.051783",
     "status": "completed"
    },
    "tags": []
   },
   "outputs": [],
   "source": [
    "import cv2\n",
    "X, y = [], []\n",
    "\n",
    "for emotion_name, training_files in emotion.items():\n",
    "    for training_image in training_files:\n",
    "        img = cv2.imread(training_image)\n",
    "        #scalled_raw_img = cv2.resize(frame, (32, 32))\n",
    "        #img_har = w2d(img,'db1',5)\n",
    "        #scalled_img_har = cv2.resize(img_har, (32, 32))\n",
    "        #combined_img = np.vstack((scalled_raw_img.reshape(32*32*3,1)))\n",
    "        combined_img=img#scalled_raw_img\n",
    "        X.append(combined_img)\n",
    "        y.append(class_dict[emotion_name]) "
   ]
  },
  {
   "cell_type": "code",
   "execution_count": 9,
   "id": "36ce2cd7",
   "metadata": {
    "execution": {
     "iopub.execute_input": "2022-05-08T07:11:29.038478Z",
     "iopub.status.busy": "2022-05-08T07:11:29.037996Z",
     "iopub.status.idle": "2022-05-08T07:11:29.042848Z",
     "shell.execute_reply": "2022-05-08T07:11:29.042273Z"
    },
    "papermill": {
     "duration": 0.049868,
     "end_time": "2022-05-08T07:11:29.044606",
     "exception": false,
     "start_time": "2022-05-08T07:11:28.994738",
     "status": "completed"
    },
    "tags": []
   },
   "outputs": [
    {
     "data": {
      "text/plain": [
       "48"
      ]
     },
     "execution_count": 9,
     "metadata": {},
     "output_type": "execute_result"
    }
   ],
   "source": [
    "len(X[0])\n"
   ]
  },
  {
   "cell_type": "code",
   "execution_count": 10,
   "id": "6a230036",
   "metadata": {
    "execution": {
     "iopub.execute_input": "2022-05-08T07:11:29.130759Z",
     "iopub.status.busy": "2022-05-08T07:11:29.130252Z",
     "iopub.status.idle": "2022-05-08T07:11:29.137637Z",
     "shell.execute_reply": "2022-05-08T07:11:29.136904Z"
    },
    "papermill": {
     "duration": 0.052271,
     "end_time": "2022-05-08T07:11:29.139413",
     "exception": false,
     "start_time": "2022-05-08T07:11:29.087142",
     "status": "completed"
    },
    "tags": []
   },
   "outputs": [
    {
     "data": {
      "text/plain": [
       "array([[[38, 38, 38],\n",
       "        [44, 44, 44],\n",
       "        [66, 66, 66],\n",
       "        ...,\n",
       "        [40, 40, 40],\n",
       "        [48, 48, 48],\n",
       "        [40, 40, 40]],\n",
       "\n",
       "       [[39, 39, 39],\n",
       "        [62, 62, 62],\n",
       "        [67, 67, 67],\n",
       "        ...,\n",
       "        [42, 42, 42],\n",
       "        [43, 43, 43],\n",
       "        [42, 42, 42]],\n",
       "\n",
       "       [[52, 52, 52],\n",
       "        [64, 64, 64],\n",
       "        [54, 54, 54],\n",
       "        ...,\n",
       "        [30, 30, 30],\n",
       "        [41, 41, 41],\n",
       "        [47, 47, 47]],\n",
       "\n",
       "       ...,\n",
       "\n",
       "       [[30, 30, 30],\n",
       "        [38, 38, 38],\n",
       "        [29, 29, 29],\n",
       "        ...,\n",
       "        [14, 14, 14],\n",
       "        [19, 19, 19],\n",
       "        [28, 28, 28]],\n",
       "\n",
       "       [[24, 24, 24],\n",
       "        [39, 39, 39],\n",
       "        [36, 36, 36],\n",
       "        ...,\n",
       "        [13, 13, 13],\n",
       "        [24, 24, 24],\n",
       "        [26, 26, 26]],\n",
       "\n",
       "       [[28, 28, 28],\n",
       "        [33, 33, 33],\n",
       "        [40, 40, 40],\n",
       "        ...,\n",
       "        [16, 16, 16],\n",
       "        [26, 26, 26],\n",
       "        [33, 33, 33]]], dtype=uint8)"
      ]
     },
     "execution_count": 10,
     "metadata": {},
     "output_type": "execute_result"
    }
   ],
   "source": [
    "X[0]\n"
   ]
  },
  {
   "cell_type": "code",
   "execution_count": 11,
   "id": "1c6cf56c",
   "metadata": {
    "execution": {
     "iopub.execute_input": "2022-05-08T07:11:29.226688Z",
     "iopub.status.busy": "2022-05-08T07:11:29.226142Z",
     "iopub.status.idle": "2022-05-08T07:11:29.230829Z",
     "shell.execute_reply": "2022-05-08T07:11:29.230295Z"
    },
    "papermill": {
     "duration": 0.050397,
     "end_time": "2022-05-08T07:11:29.232576",
     "exception": false,
     "start_time": "2022-05-08T07:11:29.182179",
     "status": "completed"
    },
    "tags": []
   },
   "outputs": [
    {
     "data": {
      "text/plain": [
       "0"
      ]
     },
     "execution_count": 11,
     "metadata": {},
     "output_type": "execute_result"
    }
   ],
   "source": [
    "y[0]\n"
   ]
  },
  {
   "cell_type": "code",
   "execution_count": 12,
   "id": "0fd63380",
   "metadata": {
    "execution": {
     "iopub.execute_input": "2022-05-08T07:11:29.319968Z",
     "iopub.status.busy": "2022-05-08T07:11:29.319445Z",
     "iopub.status.idle": "2022-05-08T07:11:29.428938Z",
     "shell.execute_reply": "2022-05-08T07:11:29.428389Z"
    },
    "papermill": {
     "duration": 0.155494,
     "end_time": "2022-05-08T07:11:29.430877",
     "exception": false,
     "start_time": "2022-05-08T07:11:29.275383",
     "status": "completed"
    },
    "tags": []
   },
   "outputs": [
    {
     "data": {
      "text/plain": [
       "(28709, 48, 48, 3)"
      ]
     },
     "execution_count": 12,
     "metadata": {},
     "output_type": "execute_result"
    }
   ],
   "source": [
    "X1=np.array(X)\n",
    "#X1 = X1.reshape(-1, 48,48)\n",
    "y = np.array(y)\n",
    "X1.shape"
   ]
  },
  {
   "cell_type": "code",
   "execution_count": null,
   "id": "6bd24041",
   "metadata": {
    "papermill": {
     "duration": 0.042371,
     "end_time": "2022-05-08T07:11:29.517575",
     "exception": false,
     "start_time": "2022-05-08T07:11:29.475204",
     "status": "completed"
    },
    "tags": []
   },
   "outputs": [],
   "source": []
  },
  {
   "cell_type": "code",
   "execution_count": null,
   "id": "3c38df9f",
   "metadata": {
    "papermill": {
     "duration": 0.042438,
     "end_time": "2022-05-08T07:11:29.602710",
     "exception": false,
     "start_time": "2022-05-08T07:11:29.560272",
     "status": "completed"
    },
    "tags": []
   },
   "outputs": [],
   "source": []
  },
  {
   "cell_type": "code",
   "execution_count": 13,
   "id": "d7f092d2",
   "metadata": {
    "execution": {
     "iopub.execute_input": "2022-05-08T07:11:29.691029Z",
     "iopub.status.busy": "2022-05-08T07:11:29.690599Z",
     "iopub.status.idle": "2022-05-08T07:11:29.696300Z",
     "shell.execute_reply": "2022-05-08T07:11:29.695625Z"
    },
    "papermill": {
     "duration": 0.051796,
     "end_time": "2022-05-08T07:11:29.698102",
     "exception": false,
     "start_time": "2022-05-08T07:11:29.646306",
     "status": "completed"
    },
    "tags": []
   },
   "outputs": [
    {
     "name": "stdout",
     "output_type": "stream",
     "text": [
      "<class 'list'>\n",
      "<class 'numpy.ndarray'>\n"
     ]
    }
   ],
   "source": [
    "print(type(X)) \n",
    "# numpy.ndarray\n",
    "print(type(X1)) "
   ]
  },
  {
   "cell_type": "code",
   "execution_count": 14,
   "id": "a765ef6a",
   "metadata": {
    "execution": {
     "iopub.execute_input": "2022-05-08T07:11:29.787674Z",
     "iopub.status.busy": "2022-05-08T07:11:29.786872Z",
     "iopub.status.idle": "2022-05-08T07:11:29.791680Z",
     "shell.execute_reply": "2022-05-08T07:11:29.791126Z"
    },
    "papermill": {
     "duration": 0.05149,
     "end_time": "2022-05-08T07:11:29.793343",
     "exception": false,
     "start_time": "2022-05-08T07:11:29.741853",
     "status": "completed"
    },
    "tags": []
   },
   "outputs": [
    {
     "data": {
      "text/plain": [
       "(48, 48, 3)"
      ]
     },
     "execution_count": 14,
     "metadata": {},
     "output_type": "execute_result"
    }
   ],
   "source": [
    "X1[0].shape"
   ]
  },
  {
   "cell_type": "code",
   "execution_count": 15,
   "id": "77551e9b",
   "metadata": {
    "execution": {
     "iopub.execute_input": "2022-05-08T07:11:29.911513Z",
     "iopub.status.busy": "2022-05-08T07:11:29.910981Z",
     "iopub.status.idle": "2022-05-08T07:11:29.916860Z",
     "shell.execute_reply": "2022-05-08T07:11:29.916255Z"
    },
    "papermill": {
     "duration": 0.076047,
     "end_time": "2022-05-08T07:11:29.919075",
     "exception": false,
     "start_time": "2022-05-08T07:11:29.843028",
     "status": "completed"
    },
    "tags": []
   },
   "outputs": [
    {
     "data": {
      "text/plain": [
       "array([[[38, 38, 38],\n",
       "        [44, 44, 44],\n",
       "        [66, 66, 66],\n",
       "        ...,\n",
       "        [40, 40, 40],\n",
       "        [48, 48, 48],\n",
       "        [40, 40, 40]],\n",
       "\n",
       "       [[39, 39, 39],\n",
       "        [62, 62, 62],\n",
       "        [67, 67, 67],\n",
       "        ...,\n",
       "        [42, 42, 42],\n",
       "        [43, 43, 43],\n",
       "        [42, 42, 42]],\n",
       "\n",
       "       [[52, 52, 52],\n",
       "        [64, 64, 64],\n",
       "        [54, 54, 54],\n",
       "        ...,\n",
       "        [30, 30, 30],\n",
       "        [41, 41, 41],\n",
       "        [47, 47, 47]],\n",
       "\n",
       "       ...,\n",
       "\n",
       "       [[30, 30, 30],\n",
       "        [38, 38, 38],\n",
       "        [29, 29, 29],\n",
       "        ...,\n",
       "        [14, 14, 14],\n",
       "        [19, 19, 19],\n",
       "        [28, 28, 28]],\n",
       "\n",
       "       [[24, 24, 24],\n",
       "        [39, 39, 39],\n",
       "        [36, 36, 36],\n",
       "        ...,\n",
       "        [13, 13, 13],\n",
       "        [24, 24, 24],\n",
       "        [26, 26, 26]],\n",
       "\n",
       "       [[28, 28, 28],\n",
       "        [33, 33, 33],\n",
       "        [40, 40, 40],\n",
       "        ...,\n",
       "        [16, 16, 16],\n",
       "        [26, 26, 26],\n",
       "        [33, 33, 33]]], dtype=uint8)"
      ]
     },
     "execution_count": 15,
     "metadata": {},
     "output_type": "execute_result"
    }
   ],
   "source": [
    "X1[0]\n"
   ]
  },
  {
   "cell_type": "code",
   "execution_count": 16,
   "id": "f577eaeb",
   "metadata": {
    "execution": {
     "iopub.execute_input": "2022-05-08T07:11:30.036436Z",
     "iopub.status.busy": "2022-05-08T07:11:30.036079Z",
     "iopub.status.idle": "2022-05-08T07:11:31.119082Z",
     "shell.execute_reply": "2022-05-08T07:11:31.118328Z"
    },
    "papermill": {
     "duration": 1.137907,
     "end_time": "2022-05-08T07:11:31.121448",
     "exception": false,
     "start_time": "2022-05-08T07:11:29.983541",
     "status": "completed"
    },
    "tags": []
   },
   "outputs": [],
   "source": [
    "from sklearn.model_selection import train_test_split\n",
    "\n",
    "X_train, X_test, y_train, y_test = train_test_split(X1, y, random_state=0)\n",
    "\n"
   ]
  },
  {
   "cell_type": "code",
   "execution_count": 17,
   "id": "7f7a4d3e",
   "metadata": {
    "execution": {
     "iopub.execute_input": "2022-05-08T07:11:31.222575Z",
     "iopub.status.busy": "2022-05-08T07:11:31.221913Z",
     "iopub.status.idle": "2022-05-08T07:11:31.230370Z",
     "shell.execute_reply": "2022-05-08T07:11:31.227773Z"
    },
    "papermill": {
     "duration": 0.06671,
     "end_time": "2022-05-08T07:11:31.232799",
     "exception": false,
     "start_time": "2022-05-08T07:11:31.166089",
     "status": "completed"
    },
    "tags": []
   },
   "outputs": [
    {
     "data": {
      "text/plain": [
       "21531"
      ]
     },
     "execution_count": 17,
     "metadata": {},
     "output_type": "execute_result"
    }
   ],
   "source": [
    "len(X_train)\n",
    "len(y_train)\n"
   ]
  },
  {
   "cell_type": "code",
   "execution_count": 18,
   "id": "26aaf959",
   "metadata": {
    "execution": {
     "iopub.execute_input": "2022-05-08T07:11:31.332617Z",
     "iopub.status.busy": "2022-05-08T07:11:31.331801Z",
     "iopub.status.idle": "2022-05-08T07:11:31.336147Z",
     "shell.execute_reply": "2022-05-08T07:11:31.335637Z"
    },
    "papermill": {
     "duration": 0.053268,
     "end_time": "2022-05-08T07:11:31.339253",
     "exception": false,
     "start_time": "2022-05-08T07:11:31.285985",
     "status": "completed"
    },
    "tags": []
   },
   "outputs": [
    {
     "name": "stdout",
     "output_type": "stream",
     "text": [
      "(21531, 48, 48, 3)\n",
      "(21531,)\n"
     ]
    }
   ],
   "source": [
    "print(X_train.shape) \n",
    "print(y_train.shape) "
   ]
  },
  {
   "cell_type": "code",
   "execution_count": 19,
   "id": "464b9646",
   "metadata": {
    "execution": {
     "iopub.execute_input": "2022-05-08T07:11:31.431960Z",
     "iopub.status.busy": "2022-05-08T07:11:31.431665Z",
     "iopub.status.idle": "2022-05-08T07:11:31.437637Z",
     "shell.execute_reply": "2022-05-08T07:11:31.436710Z"
    },
    "papermill": {
     "duration": 0.054045,
     "end_time": "2022-05-08T07:11:31.439646",
     "exception": false,
     "start_time": "2022-05-08T07:11:31.385601",
     "status": "completed"
    },
    "tags": []
   },
   "outputs": [
    {
     "data": {
      "text/plain": [
       "\"#X_train = X_train[:, 1:].reshape(X_train.shape[0],1,28).astype( 'float32' )\\nX_train = X_train / 255.0\""
      ]
     },
     "execution_count": 19,
     "metadata": {},
     "output_type": "execute_result"
    }
   ],
   "source": [
    "\"\"\"#X_train = X_train[:, 1:].reshape(X_train.shape[0],1,28).astype( 'float32' )\n",
    "X_train = X_train / 255.0\"\"\"#"
   ]
  },
  {
   "cell_type": "code",
   "execution_count": 20,
   "id": "165cb036",
   "metadata": {
    "execution": {
     "iopub.execute_input": "2022-05-08T07:11:31.531766Z",
     "iopub.status.busy": "2022-05-08T07:11:31.531505Z",
     "iopub.status.idle": "2022-05-08T07:11:31.535983Z",
     "shell.execute_reply": "2022-05-08T07:11:31.535456Z"
    },
    "papermill": {
     "duration": 0.053026,
     "end_time": "2022-05-08T07:11:31.537988",
     "exception": false,
     "start_time": "2022-05-08T07:11:31.484962",
     "status": "completed"
    },
    "tags": []
   },
   "outputs": [
    {
     "data": {
      "text/plain": [
       "\" train set / data \\nX_train=np.array(X_train)\\nx_train = X_train.reshape(-1,1, 32*32)\\nx_train = x_train.astype('float32') / 255\\n\\n# train set / target \\ny_train = tf.keras.utils.to_categorical(y_train , num_classes=7)\""
      ]
     },
     "execution_count": 20,
     "metadata": {},
     "output_type": "execute_result"
    }
   ],
   "source": [
    "\"\"\" train set / data \n",
    "X_train=np.array(X_train)\n",
    "x_train = X_train.reshape(-1,1, 32*32)\n",
    "x_train = x_train.astype('float32') / 255\n",
    "\n",
    "# train set / target \n",
    "y_train = tf.keras.utils.to_categorical(y_train , num_classes=7)\"\"\"#"
   ]
  },
  {
   "cell_type": "code",
   "execution_count": 21,
   "id": "e2a9e828",
   "metadata": {
    "execution": {
     "iopub.execute_input": "2022-05-08T07:11:31.632108Z",
     "iopub.status.busy": "2022-05-08T07:11:31.631011Z",
     "iopub.status.idle": "2022-05-08T07:11:36.849752Z",
     "shell.execute_reply": "2022-05-08T07:11:36.848895Z"
    },
    "papermill": {
     "duration": 5.268821,
     "end_time": "2022-05-08T07:11:36.852208",
     "exception": false,
     "start_time": "2022-05-08T07:11:31.583387",
     "status": "completed"
    },
    "tags": []
   },
   "outputs": [],
   "source": [
    "import tensorflow as tf\n",
    "\n",
    "from tensorflow.keras import datasets, layers, models,Sequential\n",
    "import matplotlib.pyplot as plt"
   ]
  },
  {
   "cell_type": "code",
   "execution_count": 22,
   "id": "cda1cc4d",
   "metadata": {
    "execution": {
     "iopub.execute_input": "2022-05-08T07:11:36.945997Z",
     "iopub.status.busy": "2022-05-08T07:11:36.945455Z",
     "iopub.status.idle": "2022-05-08T07:11:36.950579Z",
     "shell.execute_reply": "2022-05-08T07:11:36.949600Z"
    },
    "papermill": {
     "duration": 0.054538,
     "end_time": "2022-05-08T07:11:36.952531",
     "exception": false,
     "start_time": "2022-05-08T07:11:36.897993",
     "status": "completed"
    },
    "tags": []
   },
   "outputs": [
    {
     "data": {
      "text/plain": [
       "(21531, 48, 48, 3)"
      ]
     },
     "execution_count": 22,
     "metadata": {},
     "output_type": "execute_result"
    }
   ],
   "source": [
    "X_train.shape\n"
   ]
  },
  {
   "cell_type": "code",
   "execution_count": 23,
   "id": "49d75e43",
   "metadata": {
    "execution": {
     "iopub.execute_input": "2022-05-08T07:11:37.047831Z",
     "iopub.status.busy": "2022-05-08T07:11:37.047317Z",
     "iopub.status.idle": "2022-05-08T07:11:37.307046Z",
     "shell.execute_reply": "2022-05-08T07:11:37.305866Z"
    },
    "papermill": {
     "duration": 0.310138,
     "end_time": "2022-05-08T07:11:37.309295",
     "exception": false,
     "start_time": "2022-05-08T07:11:36.999157",
     "status": "completed"
    },
    "tags": []
   },
   "outputs": [
    {
     "name": "stderr",
     "output_type": "stream",
     "text": [
      "2022-05-08 07:11:37.099899: I tensorflow/core/common_runtime/process_util.cc:146] Creating new thread pool with default inter op setting: 2. Tune using inter_op_parallelism_threads for best performance.\n"
     ]
    }
   ],
   "source": [
    "model1 = Sequential([\n",
    "  layers.Rescaling(1./255, input_shape=(48, 48, 3)),\n",
    "  layers.Conv2D(16, 3, padding='same', activation='relu'),\n",
    "  layers.MaxPooling2D(),\n",
    "  layers.Conv2D(32, 3, padding='same', activation='relu'),\n",
    "  layers.MaxPooling2D(),\n",
    "  layers.Conv2D(64, 3, padding='same', activation='relu'),\n",
    "  layers.MaxPooling2D(),\n",
    "  layers.Flatten(),\n",
    "  layers.Dense(1280, activation='relu'),\n",
    "  layers.Dropout(0.5),\n",
    "  \n",
    "  layers.Dense(5280, activation='relu'),\n",
    "  layers.Dropout(0.5),\n",
    "\n",
    "  layers.Dense(7, activation='softmax')\n",
    "])"
   ]
  },
  {
   "cell_type": "code",
   "execution_count": 24,
   "id": "5bbb57ed",
   "metadata": {
    "execution": {
     "iopub.execute_input": "2022-05-08T07:11:37.405091Z",
     "iopub.status.busy": "2022-05-08T07:11:37.404609Z",
     "iopub.status.idle": "2022-05-08T07:11:37.413886Z",
     "shell.execute_reply": "2022-05-08T07:11:37.413261Z"
    },
    "papermill": {
     "duration": 0.06053,
     "end_time": "2022-05-08T07:11:37.416806",
     "exception": false,
     "start_time": "2022-05-08T07:11:37.356276",
     "status": "completed"
    },
    "tags": []
   },
   "outputs": [
    {
     "name": "stdout",
     "output_type": "stream",
     "text": [
      "Model: \"sequential\"\n",
      "_________________________________________________________________\n",
      "Layer (type)                 Output Shape              Param #   \n",
      "=================================================================\n",
      "rescaling (Rescaling)        (None, 48, 48, 3)         0         \n",
      "_________________________________________________________________\n",
      "conv2d (Conv2D)              (None, 48, 48, 16)        448       \n",
      "_________________________________________________________________\n",
      "max_pooling2d (MaxPooling2D) (None, 24, 24, 16)        0         \n",
      "_________________________________________________________________\n",
      "conv2d_1 (Conv2D)            (None, 24, 24, 32)        4640      \n",
      "_________________________________________________________________\n",
      "max_pooling2d_1 (MaxPooling2 (None, 12, 12, 32)        0         \n",
      "_________________________________________________________________\n",
      "conv2d_2 (Conv2D)            (None, 12, 12, 64)        18496     \n",
      "_________________________________________________________________\n",
      "max_pooling2d_2 (MaxPooling2 (None, 6, 6, 64)          0         \n",
      "_________________________________________________________________\n",
      "flatten (Flatten)            (None, 2304)              0         \n",
      "_________________________________________________________________\n",
      "dense (Dense)                (None, 1280)              2950400   \n",
      "_________________________________________________________________\n",
      "dropout (Dropout)            (None, 1280)              0         \n",
      "_________________________________________________________________\n",
      "dense_1 (Dense)              (None, 5280)              6763680   \n",
      "_________________________________________________________________\n",
      "dropout_1 (Dropout)          (None, 5280)              0         \n",
      "_________________________________________________________________\n",
      "dense_2 (Dense)              (None, 7)                 36967     \n",
      "=================================================================\n",
      "Total params: 9,774,631\n",
      "Trainable params: 9,774,631\n",
      "Non-trainable params: 0\n",
      "_________________________________________________________________\n"
     ]
    }
   ],
   "source": [
    "model1.summary()"
   ]
  },
  {
   "cell_type": "code",
   "execution_count": 25,
   "id": "5ccea4fb",
   "metadata": {
    "execution": {
     "iopub.execute_input": "2022-05-08T07:11:37.513448Z",
     "iopub.status.busy": "2022-05-08T07:11:37.512939Z",
     "iopub.status.idle": "2022-05-08T07:11:37.527828Z",
     "shell.execute_reply": "2022-05-08T07:11:37.527210Z"
    },
    "papermill": {
     "duration": 0.064908,
     "end_time": "2022-05-08T07:11:37.529710",
     "exception": false,
     "start_time": "2022-05-08T07:11:37.464802",
     "status": "completed"
    },
    "tags": []
   },
   "outputs": [],
   "source": [
    "model1.compile(optimizer='adam',\n",
    "              loss=tf.keras.losses.SparseCategoricalCrossentropy(from_logits=True),\n",
    "              metrics=['accuracy'])"
   ]
  },
  {
   "cell_type": "code",
   "execution_count": 26,
   "id": "ac1e6b21",
   "metadata": {
    "execution": {
     "iopub.execute_input": "2022-05-08T07:11:37.626780Z",
     "iopub.status.busy": "2022-05-08T07:11:37.625890Z",
     "iopub.status.idle": "2022-05-08T07:31:50.169235Z",
     "shell.execute_reply": "2022-05-08T07:31:50.168180Z"
    },
    "papermill": {
     "duration": 1212.594577,
     "end_time": "2022-05-08T07:31:50.171431",
     "exception": false,
     "start_time": "2022-05-08T07:11:37.576854",
     "status": "completed"
    },
    "tags": []
   },
   "outputs": [
    {
     "name": "stderr",
     "output_type": "stream",
     "text": [
      "2022-05-08 07:11:37.848355: I tensorflow/compiler/mlir/mlir_graph_optimization_pass.cc:185] None of the MLIR Optimization Passes are enabled (registered 2)\n",
      "/opt/conda/lib/python3.7/site-packages/keras/backend.py:4907: UserWarning: \"`sparse_categorical_crossentropy` received `from_logits=True`, but the `output` argument was produced by a sigmoid or softmax activation and thus does not represent logits. Was this intended?\"\n",
      "  '\"`sparse_categorical_crossentropy` received `from_logits=True`, but '\n"
     ]
    },
    {
     "name": "stdout",
     "output_type": "stream",
     "text": [
      "Epoch 1/30\n",
      "673/673 [==============================] - 40s 58ms/step - loss: 1.7519 - accuracy: 0.2810\n",
      "Epoch 2/30\n",
      "673/673 [==============================] - 39s 58ms/step - loss: 1.5373 - accuracy: 0.3959\n",
      "Epoch 3/30\n",
      "673/673 [==============================] - 39s 59ms/step - loss: 1.3898 - accuracy: 0.4618\n",
      "Epoch 4/30\n",
      "673/673 [==============================] - 41s 61ms/step - loss: 1.2915 - accuracy: 0.5053\n",
      "Epoch 5/30\n",
      "673/673 [==============================] - 40s 59ms/step - loss: 1.2166 - accuracy: 0.5350\n",
      "Epoch 6/30\n",
      "673/673 [==============================] - 40s 59ms/step - loss: 1.1292 - accuracy: 0.5711\n",
      "Epoch 7/30\n",
      "673/673 [==============================] - 40s 59ms/step - loss: 1.0517 - accuracy: 0.6022\n",
      "Epoch 8/30\n",
      "673/673 [==============================] - 41s 60ms/step - loss: 0.9537 - accuracy: 0.6425\n",
      "Epoch 9/30\n",
      "673/673 [==============================] - 41s 60ms/step - loss: 0.8541 - accuracy: 0.6828\n",
      "Epoch 10/30\n",
      "673/673 [==============================] - 41s 62ms/step - loss: 0.7574 - accuracy: 0.7191\n",
      "Epoch 11/30\n",
      "673/673 [==============================] - 41s 61ms/step - loss: 0.6785 - accuracy: 0.7510\n",
      "Epoch 12/30\n",
      "673/673 [==============================] - 41s 61ms/step - loss: 0.5848 - accuracy: 0.7866\n",
      "Epoch 13/30\n",
      "673/673 [==============================] - 41s 60ms/step - loss: 0.5416 - accuracy: 0.8036\n",
      "Epoch 14/30\n",
      "673/673 [==============================] - 39s 58ms/step - loss: 0.4827 - accuracy: 0.8297\n",
      "Epoch 15/30\n",
      "673/673 [==============================] - 41s 61ms/step - loss: 0.4475 - accuracy: 0.8427\n",
      "Epoch 16/30\n",
      "673/673 [==============================] - 40s 60ms/step - loss: 0.4200 - accuracy: 0.8494\n",
      "Epoch 17/30\n",
      "673/673 [==============================] - 40s 60ms/step - loss: 0.3819 - accuracy: 0.8641\n",
      "Epoch 18/30\n",
      "673/673 [==============================] - 42s 62ms/step - loss: 0.3565 - accuracy: 0.8776\n",
      "Epoch 19/30\n",
      "673/673 [==============================] - 39s 58ms/step - loss: 0.3554 - accuracy: 0.8766\n",
      "Epoch 20/30\n",
      "673/673 [==============================] - 43s 63ms/step - loss: 0.3297 - accuracy: 0.8867\n",
      "Epoch 21/30\n",
      "673/673 [==============================] - 39s 58ms/step - loss: 0.3197 - accuracy: 0.8927\n",
      "Epoch 22/30\n",
      "673/673 [==============================] - 42s 62ms/step - loss: 0.2945 - accuracy: 0.8986\n",
      "Epoch 23/30\n",
      "673/673 [==============================] - 39s 58ms/step - loss: 0.2912 - accuracy: 0.9020\n",
      "Epoch 24/30\n",
      "673/673 [==============================] - 43s 63ms/step - loss: 0.2768 - accuracy: 0.9081\n",
      "Epoch 25/30\n",
      "673/673 [==============================] - 42s 62ms/step - loss: 0.2793 - accuracy: 0.9074\n",
      "Epoch 26/30\n",
      "673/673 [==============================] - 40s 59ms/step - loss: 0.2577 - accuracy: 0.9162\n",
      "Epoch 27/30\n",
      "673/673 [==============================] - 40s 59ms/step - loss: 0.2557 - accuracy: 0.9153\n",
      "Epoch 28/30\n",
      "673/673 [==============================] - 39s 58ms/step - loss: 0.2633 - accuracy: 0.9130\n",
      "Epoch 29/30\n",
      "673/673 [==============================] - 43s 64ms/step - loss: 0.2556 - accuracy: 0.9161\n",
      "Epoch 30/30\n",
      "673/673 [==============================] - 39s 57ms/step - loss: 0.2318 - accuracy: 0.9258\n"
     ]
    }
   ],
   "source": [
    "epochs=30\n",
    "history = model1.fit(\n",
    "  X_train,\n",
    "  y_train,\n",
    "  epochs=epochs\n",
    ")"
   ]
  },
  {
   "cell_type": "code",
   "execution_count": 27,
   "id": "a66d623a",
   "metadata": {
    "execution": {
     "iopub.execute_input": "2022-05-08T07:32:05.142268Z",
     "iopub.status.busy": "2022-05-08T07:32:05.142017Z",
     "iopub.status.idle": "2022-05-08T07:32:08.554067Z",
     "shell.execute_reply": "2022-05-08T07:32:08.553115Z"
    },
    "papermill": {
     "duration": 10.907976,
     "end_time": "2022-05-08T07:32:08.556121",
     "exception": false,
     "start_time": "2022-05-08T07:31:57.648145",
     "status": "completed"
    },
    "tags": []
   },
   "outputs": [
    {
     "name": "stdout",
     "output_type": "stream",
     "text": [
      "225/225 [==============================] - 3s 14ms/step - loss: 2.0760 - accuracy: 0.5453\n",
      "[2.0760364532470703, 0.5452772378921509]\n"
     ]
    }
   ],
   "source": [
    "loss_and_metrics = model1.evaluate(X_test,y_test)\n",
    "print(loss_and_metrics)"
   ]
  },
  {
   "cell_type": "code",
   "execution_count": 28,
   "id": "df0173e8",
   "metadata": {
    "execution": {
     "iopub.execute_input": "2022-05-08T07:32:23.621886Z",
     "iopub.status.busy": "2022-05-08T07:32:23.621635Z",
     "iopub.status.idle": "2022-05-08T07:32:23.824047Z",
     "shell.execute_reply": "2022-05-08T07:32:23.823371Z"
    },
    "papermill": {
     "duration": 7.718835,
     "end_time": "2022-05-08T07:32:23.826381",
     "exception": false,
     "start_time": "2022-05-08T07:32:16.107546",
     "status": "completed"
    },
    "tags": []
   },
   "outputs": [],
   "source": [
    "import tensorflow as tf\n",
    "\n",
    "from keras.models import load_model\n",
    "\n",
    "model1.save('model_.h5')"
   ]
  },
  {
   "cell_type": "code",
   "execution_count": 29,
   "id": "8752964a",
   "metadata": {
    "execution": {
     "iopub.execute_input": "2022-05-08T07:32:38.931720Z",
     "iopub.status.busy": "2022-05-08T07:32:38.931205Z",
     "iopub.status.idle": "2022-05-08T07:32:38.935226Z",
     "shell.execute_reply": "2022-05-08T07:32:38.934667Z"
    },
    "papermill": {
     "duration": 7.513672,
     "end_time": "2022-05-08T07:32:38.936818",
     "exception": false,
     "start_time": "2022-05-08T07:32:31.423146",
     "status": "completed"
    },
    "tags": []
   },
   "outputs": [],
   "source": [
    "import json\n",
    "with open(\"class_dictionary.json\",\"w\") as f:\n",
    "    f.write(json.dumps(class_dict))"
   ]
  },
  {
   "cell_type": "code",
   "execution_count": 30,
   "id": "83bed33b",
   "metadata": {
    "execution": {
     "iopub.execute_input": "2022-05-08T07:32:53.928769Z",
     "iopub.status.busy": "2022-05-08T07:32:53.928519Z",
     "iopub.status.idle": "2022-05-08T07:32:53.939084Z",
     "shell.execute_reply": "2022-05-08T07:32:53.938479Z"
    },
    "papermill": {
     "duration": 7.438438,
     "end_time": "2022-05-08T07:32:53.940972",
     "exception": false,
     "start_time": "2022-05-08T07:32:46.502534",
     "status": "completed"
    },
    "tags": []
   },
   "outputs": [],
   "source": [
    "import cv2\n",
    "test= []\n",
    "\n",
    "#for training_image in training_files:\n",
    "img = cv2.imread('../input/sssssas/grey.jpg')\n",
    "        #scalled_raw_img = cv2.resize(frame, (32, 32))\n",
    "        #img_har = w2d(img,'db1',5)\n",
    "        #scalled_img_har = cv2.resize(img_har, (32, 32))\n",
    "        #combined_img = np.vstack((scalled_raw_img.reshape(32*32*3,1)))\n",
    "test.append(img)\n",
    "        "
   ]
  },
  {
   "cell_type": "code",
   "execution_count": 31,
   "id": "fbf9b28a",
   "metadata": {
    "execution": {
     "iopub.execute_input": "2022-05-08T07:33:09.061129Z",
     "iopub.status.busy": "2022-05-08T07:33:09.060225Z",
     "iopub.status.idle": "2022-05-08T07:33:09.224549Z",
     "shell.execute_reply": "2022-05-08T07:33:09.223551Z"
    },
    "papermill": {
     "duration": 7.692938,
     "end_time": "2022-05-08T07:33:09.228532",
     "exception": false,
     "start_time": "2022-05-08T07:33:01.535594",
     "status": "completed"
    },
    "tags": []
   },
   "outputs": [
    {
     "name": "stdout",
     "output_type": "stream",
     "text": [
      "Populating the interactive namespace from numpy and matplotlib\n"
     ]
    },
    {
     "name": "stderr",
     "output_type": "stream",
     "text": [
      "/opt/conda/lib/python3.7/site-packages/IPython/core/magics/pylab.py:160: UserWarning: pylab import has clobbered these variables: ['f']\n",
      "`%matplotlib` prevents importing * from pylab and numpy\n",
      "  \"\\n`%matplotlib` prevents importing * from pylab and numpy\"\n"
     ]
    },
    {
     "data": {
      "image/png": "[encoded data removed]",
      "text/plain": [
       "<Figure size 432x288 with 1 Axes>"
      ]
     },
     "metadata": {
      "needs_background": "light"
     },
     "output_type": "display_data"
    }
   ],
   "source": [
    "%pylab inline\n",
    "import matplotlib.pyplot as plt\n",
    "import matplotlib.image as mpimg\n",
    "\n",
    "imgplot = plt.imshow(img)\n",
    "plt.show()"
   ]
  },
  {
   "cell_type": "code",
   "execution_count": 32,
   "id": "2c335bc7",
   "metadata": {
    "execution": {
     "iopub.execute_input": "2022-05-08T07:33:24.277204Z",
     "iopub.status.busy": "2022-05-08T07:33:24.276404Z",
     "iopub.status.idle": "2022-05-08T07:33:24.280598Z",
     "shell.execute_reply": "2022-05-08T07:33:24.279791Z"
    },
    "papermill": {
     "duration": 7.515534,
     "end_time": "2022-05-08T07:33:24.282387",
     "exception": false,
     "start_time": "2022-05-08T07:33:16.766853",
     "status": "completed"
    },
    "tags": []
   },
   "outputs": [],
   "source": [
    "test1=np.array(test)"
   ]
  },
  {
   "cell_type": "code",
   "execution_count": 33,
   "id": "e9c0dc71",
   "metadata": {
    "execution": {
     "iopub.execute_input": "2022-05-08T07:33:39.354272Z",
     "iopub.status.busy": "2022-05-08T07:33:39.353957Z",
     "iopub.status.idle": "2022-05-08T07:33:39.359637Z",
     "shell.execute_reply": "2022-05-08T07:33:39.358783Z"
    },
    "papermill": {
     "duration": 7.437361,
     "end_time": "2022-05-08T07:33:39.361860",
     "exception": false,
     "start_time": "2022-05-08T07:33:31.924499",
     "status": "completed"
    },
    "tags": []
   },
   "outputs": [
    {
     "data": {
      "text/plain": [
       "dtype('uint8')"
      ]
     },
     "execution_count": 33,
     "metadata": {},
     "output_type": "execute_result"
    }
   ],
   "source": [
    "test1.dtype"
   ]
  },
  {
   "cell_type": "code",
   "execution_count": 34,
   "id": "81c9b277",
   "metadata": {
    "execution": {
     "iopub.execute_input": "2022-05-08T07:33:54.392536Z",
     "iopub.status.busy": "2022-05-08T07:33:54.391916Z",
     "iopub.status.idle": "2022-05-08T07:33:54.397539Z",
     "shell.execute_reply": "2022-05-08T07:33:54.396820Z"
    },
    "papermill": {
     "duration": 7.51367,
     "end_time": "2022-05-08T07:33:54.399239",
     "exception": false,
     "start_time": "2022-05-08T07:33:46.885569",
     "status": "completed"
    },
    "tags": []
   },
   "outputs": [
    {
     "data": {
      "text/plain": [
       "(1, 48, 48, 3)"
      ]
     },
     "execution_count": 34,
     "metadata": {},
     "output_type": "execute_result"
    }
   ],
   "source": [
    "test1.shape"
   ]
  },
  {
   "cell_type": "code",
   "execution_count": 35,
   "id": "6847acbb",
   "metadata": {
    "execution": {
     "iopub.execute_input": "2022-05-08T07:34:09.498349Z",
     "iopub.status.busy": "2022-05-08T07:34:09.498071Z",
     "iopub.status.idle": "2022-05-08T07:34:09.673672Z",
     "shell.execute_reply": "2022-05-08T07:34:09.672898Z"
    },
    "papermill": {
     "duration": 7.777378,
     "end_time": "2022-05-08T07:34:09.675870",
     "exception": false,
     "start_time": "2022-05-08T07:34:01.898492",
     "status": "completed"
    },
    "tags": []
   },
   "outputs": [],
   "source": [
    "a=model1.predict(test1)"
   ]
  },
  {
   "cell_type": "code",
   "execution_count": null,
   "id": "f4dd7013",
   "metadata": {
    "papermill": {
     "duration": 7.522645,
     "end_time": "2022-05-08T07:34:24.751458",
     "exception": false,
     "start_time": "2022-05-08T07:34:17.228813",
     "status": "completed"
    },
    "tags": []
   },
   "outputs": [],
   "source": []
  },
  {
   "cell_type": "code",
   "execution_count": 36,
   "id": "8fb54165",
   "metadata": {
    "execution": {
     "iopub.execute_input": "2022-05-08T07:34:39.868176Z",
     "iopub.status.busy": "2022-05-08T07:34:39.867461Z",
     "iopub.status.idle": "2022-05-08T07:34:39.873514Z",
     "shell.execute_reply": "2022-05-08T07:34:39.872745Z"
    },
    "papermill": {
     "duration": 7.563772,
     "end_time": "2022-05-08T07:34:39.875931",
     "exception": false,
     "start_time": "2022-05-08T07:34:32.312159",
     "status": "completed"
    },
    "tags": []
   },
   "outputs": [
    {
     "data": {
      "text/plain": [
       "array([[0.01026844, 0.031598  , 0.05913617, 0.7359148 , 0.0055447 ,\n",
       "        0.0087295 , 0.14880835]], dtype=float32)"
      ]
     },
     "execution_count": 36,
     "metadata": {},
     "output_type": "execute_result"
    }
   ],
   "source": [
    "a"
   ]
  },
  {
   "cell_type": "code",
   "execution_count": 37,
   "id": "65b68672",
   "metadata": {
    "execution": {
     "iopub.execute_input": "2022-05-08T07:34:54.829835Z",
     "iopub.status.busy": "2022-05-08T07:34:54.829425Z",
     "iopub.status.idle": "2022-05-08T07:34:54.834938Z",
     "shell.execute_reply": "2022-05-08T07:34:54.834250Z"
    },
    "papermill": {
     "duration": 7.513855,
     "end_time": "2022-05-08T07:34:54.836683",
     "exception": false,
     "start_time": "2022-05-08T07:34:47.322828",
     "status": "completed"
    },
    "tags": []
   },
   "outputs": [
    {
     "data": {
      "text/plain": [
       "3"
      ]
     },
     "execution_count": 37,
     "metadata": {},
     "output_type": "execute_result"
    }
   ],
   "source": [
    "emo=np.argmax(a)\n",
    "emo"
   ]
  },
  {
   "cell_type": "code",
   "execution_count": null,
   "id": "dc6097f7",
   "metadata": {
    "execution": {
     "iopub.execute_input": "2022-05-08T07:02:28.195866Z",
     "iopub.status.busy": "2022-05-08T07:02:28.195083Z",
     "iopub.status.idle": "2022-05-08T07:02:28.201955Z",
     "shell.execute_reply": "2022-05-08T07:02:28.201035Z",
     "shell.execute_reply.started": "2022-05-08T07:02:28.195819Z"
    },
    "papermill": {
     "duration": 7.586355,
     "end_time": "2022-05-08T07:35:09.917996",
     "exception": false,
     "start_time": "2022-05-08T07:35:02.331641",
     "status": "completed"
    },
    "tags": []
   },
   "outputs": [],
   "source": []
  },
  {
   "cell_type": "code",
   "execution_count": null,
   "id": "a8b273be",
   "metadata": {
    "papermill": {
     "duration": 7.504077,
     "end_time": "2022-05-08T07:35:24.920513",
     "exception": false,
     "start_time": "2022-05-08T07:35:17.416436",
     "status": "completed"
    },
    "tags": []
   },
   "outputs": [],
   "source": []
  }
 ],
 "metadata": {
  "kernelspec": {
   "display_name": "Python 3",
   "language": "python",
   "name": "python3"
  },
  "language_info": {
   "codemirror_mode": {
    "name": "ipython",
    "version": 3
   },
   "file_extension": ".py",
   "mimetype": "text/x-python",
   "name": "python",
   "nbconvert_exporter": "python",
   "pygments_lexer": "ipython3",
   "version": "3.7.12"
  },
  "papermill": {
   "default_parameters": {},
   "duration": 1629.730965,
   "end_time": "2022-05-08T07:35:35.696741",
   "environment_variables": {},
   "exception": null,
   "input_path": "__notebook__.ipynb",
   "output_path": "__notebook__.ipynb",
   "parameters": {},
   "start_time": "2022-05-08T07:08:25.965776",
   "version": "2.3.4"
  }
 },
 "nbformat": 4,
 "nbformat_minor": 5
}
